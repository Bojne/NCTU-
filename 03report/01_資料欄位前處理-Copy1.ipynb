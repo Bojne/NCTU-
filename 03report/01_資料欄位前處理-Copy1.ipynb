{
 "cells": [
  {
   "cell_type": "code",
   "execution_count": 60,
   "metadata": {
    "collapsed": true
   },
   "outputs": [],
   "source": [
    "import pandas as pd\n",
    "import os\n",
    "%matplotlib inline\n",
    "import seaborn"
   ]
  },
  {
   "cell_type": "code",
   "execution_count": 103,
   "metadata": {},
   "outputs": [
    {
     "name": "stdout",
     "output_type": "stream",
     "text": [
      "/Users/ah-bau/github_repo\n"
     ]
    },
    {
     "data": {
      "text/plain": [
       "['.ipynb_checkpoints', '01_資料欄位前處理-Copy1.ipynb', '館舍報告-Pipeline-科三為例.ipynb']"
      ]
     },
     "execution_count": 103,
     "metadata": {},
     "output_type": "execute_result"
    }
   ],
   "source": [
    "print(os.getcwd())\n",
    "os.chdir('./electricity_data_nctu/03report/')\n",
    "os.listdir()"
   ]
  },
  {
   "cell_type": "code",
   "execution_count": 104,
   "metadata": {
    "collapsed": true
   },
   "outputs": [],
   "source": [
    "# Global variables\n",
    "CostRate = 2.8 # 一度電多少錢（估算，實際還要再確認）"
   ]
  },
  {
   "cell_type": "code",
   "execution_count": 119,
   "metadata": {},
   "outputs": [],
   "source": [
    "file = 'teach_p2.csv'\n",
    "path = '../01data/106B_P1_P4/{}'.format(file)\n",
    "df = pd.read_csv(path)"
   ]
  },
  {
   "cell_type": "code",
   "execution_count": 120,
   "metadata": {},
   "outputs": [
    {
     "name": "stdout",
     "output_type": "stream",
     "text": [
      "Old names:  Index(['時  間', '區 域', '館 舍 別', '迴 路 別', '用電別', '用電量(單位:度)'], dtype='object')\n",
      "Reassign Column names\n",
      "New names:  Index(['DateTime', 'Area', 'Building', 'Loop', 'Type', 'Usage'], dtype='object')\n"
     ]
    },
    {
     "data": {
      "text/html": [
       "<div>\n",
       "<style scoped>\n",
       "    .dataframe tbody tr th:only-of-type {\n",
       "        vertical-align: middle;\n",
       "    }\n",
       "\n",
       "    .dataframe tbody tr th {\n",
       "        vertical-align: top;\n",
       "    }\n",
       "\n",
       "    .dataframe thead th {\n",
       "        text-align: right;\n",
       "    }\n",
       "</style>\n",
       "<table border=\"1\" class=\"dataframe\">\n",
       "  <thead>\n",
       "    <tr style=\"text-align: right;\">\n",
       "      <th></th>\n",
       "      <th>DateTime</th>\n",
       "      <th>Area</th>\n",
       "      <th>Building</th>\n",
       "      <th>Loop</th>\n",
       "      <th>Type</th>\n",
       "      <th>Usage</th>\n",
       "    </tr>\n",
       "  </thead>\n",
       "  <tbody>\n",
       "    <tr>\n",
       "      <th>0</th>\n",
       "      <td>2018/03/12 00:00</td>\n",
       "      <td>北區</td>\n",
       "      <td>工程一館</td>\n",
       "      <td>主迴路</td>\n",
       "      <td>教學</td>\n",
       "      <td>15.38</td>\n",
       "    </tr>\n",
       "    <tr>\n",
       "      <th>1</th>\n",
       "      <td>2018/03/12 01:00</td>\n",
       "      <td>北區</td>\n",
       "      <td>工程一館</td>\n",
       "      <td>主迴路</td>\n",
       "      <td>教學</td>\n",
       "      <td>15.63</td>\n",
       "    </tr>\n",
       "    <tr>\n",
       "      <th>2</th>\n",
       "      <td>2018/03/12 02:00</td>\n",
       "      <td>北區</td>\n",
       "      <td>工程一館</td>\n",
       "      <td>主迴路</td>\n",
       "      <td>教學</td>\n",
       "      <td>15.00</td>\n",
       "    </tr>\n",
       "    <tr>\n",
       "      <th>3</th>\n",
       "      <td>2018/03/12 03:00</td>\n",
       "      <td>北區</td>\n",
       "      <td>工程一館</td>\n",
       "      <td>主迴路</td>\n",
       "      <td>教學</td>\n",
       "      <td>15.00</td>\n",
       "    </tr>\n",
       "    <tr>\n",
       "      <th>4</th>\n",
       "      <td>2018/03/12 04:00</td>\n",
       "      <td>北區</td>\n",
       "      <td>工程一館</td>\n",
       "      <td>主迴路</td>\n",
       "      <td>教學</td>\n",
       "      <td>15.25</td>\n",
       "    </tr>\n",
       "  </tbody>\n",
       "</table>\n",
       "</div>"
      ],
      "text/plain": [
       "           DateTime                  Area              Building  \\\n",
       "0  2018/03/12 00:00  北區                    工程一館                   \n",
       "1  2018/03/12 01:00  北區                    工程一館                   \n",
       "2  2018/03/12 02:00  北區                    工程一館                   \n",
       "3  2018/03/12 03:00  北區                    工程一館                   \n",
       "4  2018/03/12 04:00  北區                    工程一館                   \n",
       "\n",
       "                   Loop                  Type  Usage  \n",
       "0  主迴路                   教學                    15.38  \n",
       "1  主迴路                   教學                    15.63  \n",
       "2  主迴路                   教學                    15.00  \n",
       "3  主迴路                   教學                    15.00  \n",
       "4  主迴路                   教學                    15.25  "
      ]
     },
     "execution_count": 120,
     "metadata": {},
     "output_type": "execute_result"
    }
   ],
   "source": [
    "print('Old names: ',df.columns)\n",
    "print('Reassign Column names')\n",
    "df.columns = ['DateTime', 'Area', 'Building', 'Loop', 'Type', 'Usage']\n",
    "print('New names: ',df.columns)\n",
    "df.head()"
   ]
  },
  {
   "cell_type": "code",
   "execution_count": 121,
   "metadata": {},
   "outputs": [
    {
     "name": "stdout",
     "output_type": "stream",
     "text": [
      "Before:  ['工程一館                ' '工程二館                ' '管理一館                '\n",
      " '電資大樓                ' '光電大樓                ' '基礎大樓                '\n",
      " '科學一館                ' '科學二館                ' '環保大樓                '\n",
      " '人社一館                ' '人社二館                ' '人社三館                '\n",
      " '工程三館                ' '工程四館                ' '工程五館                '\n",
      " '工程六館                ' '管理二館                ' '綜合一館                ']\n",
      "After:  ['工程一館' '工程二館' '管理一館' '電資大樓' '光電大樓' '基礎大樓' '科學一館' '科學二館' '環保大樓' '人社一館'\n",
      " '人社二館' '人社三館' '工程三館' '工程四館' '工程五館' '工程六館' '管理二館' '綜合一館']\n"
     ]
    }
   ],
   "source": [
    "def clear_white_space(df):\n",
    "    print(\"Before: \", df.Building.unique())\n",
    "    for y in df.select_dtypes(include = 'object').columns:\n",
    "        df[y] = df[y].str.strip()\n",
    "    print('After: ', df.Building.unique())\n",
    "clear_white_space(df)"
   ]
  },
  {
   "cell_type": "code",
   "execution_count": 122,
   "metadata": {
    "collapsed": true
   },
   "outputs": [],
   "source": [
    "# 用自訂函式去理解DF中每個欄位有哪幾種類別的值\n",
    "print_limit = 100\n",
    "def understand(df):\n",
    "    for col_name in df.columns:\n",
    "        print ('>>> \"{}\" has {} unique values:'.format(col_name, len(df[col_name].unique())))\n",
    "        if(len(df[col_name].unique())< print_limit):\n",
    "            print(df[col_name].unique())\n",
    "        else:\n",
    "            print('The value is more than {} so wont be list here :P'.format(print_limit))\n",
    "        print('\\n')\n"
   ]
  },
  {
   "cell_type": "code",
   "execution_count": 123,
   "metadata": {},
   "outputs": [
    {
     "name": "stdout",
     "output_type": "stream",
     "text": [
      ">>> \"DateTime\" has 840 unique values:\n",
      "The value is more than 100 so wont be list here :P\n",
      "\n",
      "\n",
      ">>> \"Area\" has 2 unique values:\n",
      "['北區' '南區']\n",
      "\n",
      "\n",
      ">>> \"Building\" has 18 unique values:\n",
      "['工程一館' '工程二館' '管理一館' '電資大樓' '光電大樓' '基礎大樓' '科學一館' '科學二館' '環保大樓' '人社一館'\n",
      " '人社二館' '人社三館' '工程三館' '工程四館' '工程五館' '工程六館' '管理二館' '綜合一館']\n",
      "\n",
      "\n",
      ">>> \"Loop\" has 11 unique values:\n",
      "['主迴路' '空調' '網球場動力' '網球場燈力' '空大MP動力' '空大ML燈力' '棒球場照明' '餐亭' '管科ML燈力' '管科插座'\n",
      " '管科MP動力']\n",
      "\n",
      "\n",
      ">>> \"Type\" has 3 unique values:\n",
      "['教學' '行政' '外租']\n",
      "\n",
      "\n",
      ">>> \"Usage\" has 3307 unique values:\n",
      "The value is more than 100 so wont be list here :P\n",
      "\n",
      "\n"
     ]
    }
   ],
   "source": [
    "understand(df)"
   ]
  },
  {
   "cell_type": "markdown",
   "metadata": {},
   "source": [
    "### 原始資料說明 - 2\n",
    "- index: ['﻿時  間', '區 域', '館 舍 別', '迴 路 別', '用電別', '用電量(單位:度)']\n",
    "\n",
    "### 人工資料前處理：改變欄位名稱\n",
    "#### 改變的原因\n",
    "- 原始的資料有空白在字串裡，會造成一些麻煩\n",
    "- 英文的名稱，可以在Pandas寫Code時較為方便(才能用 df.Usage的指令)\n",
    "\n",
    "#### 改了什麼\n",
    "- 我用Number(Excel)的尋找取代功能，把資料轉成英文，以下括弧表示原始資料的命名\n",
    "    - 區域：southArea(南區), northArea(北區)\n",
    "    - 迴 路 別: mainLoop（主迴路）, familyMart（1F便利超商）, club（社團）, socialHall（閱覽交誼廳）, studentHall（學生交誼廳）, streetLight(環校路燈),\n",
    "    - 館舍： dorm_13（學生十三舍）,(7,8,9,10,11,12 以此類推), dorm_graduate_2（研二）, dorm_87（學生七舍＿八舍）, dorm_13_graduate_1(11與研一), dorm_chu（竹軒）\n",
    "    - 用電別：rent（外租）, dorm（宿舍）, admin(行政)"
   ]
  },
  {
   "cell_type": "code",
   "execution_count": 124,
   "metadata": {
    "collapsed": true
   },
   "outputs": [],
   "source": [
    "dic_replace = {\n",
    "    'Area' : {'北區':'N','南區':'S'},\n",
    "    'Building' : {\n",
    "        '基礎大樓':\"SB3\",\n",
    "        '科學二館':\"SB2\",\n",
    "        '科學一館':\"SB1\",\n",
    "        '學生十三舍': \"D13\", \n",
    "        '學生十二舍': 'D12',\n",
    "        '學生十一舍': 'D11',\n",
    "        '學生十舍': 'D10',\n",
    "        '學生九舍': 'D9',\n",
    "        '學生八舍': 'D8',\n",
    "        '學生七舍': 'D7',\n",
    "        '學生七舍_八舍':'D87',\n",
    "        '竹軒宿舍': 'Df1',\n",
    "        '女二舍': 'Df2',\n",
    "        '研究生一舍': 'Dgd1',\n",
    "        '研究生二舍': 'Dgd2',\n",
    "        '學生十一舍_研一舍':'D11_grad1',\n",
    "        '管理一館':'MB1',\n",
    "        '管理二館':'MB2',\n",
    "        '工程一館': 'EB1',\n",
    "        '工程二館': 'EB2',\n",
    "        '工程三館': 'EB3',\n",
    "        '工程四館': 'EB4',\n",
    "        '工程五館': 'EB5',\n",
    "        '工程六館': 'EB6',\n",
    "        '人社一館': 'HS1',\n",
    "        '人社二館': 'HS2',\n",
    "        '交映樓': 'CPT',\n",
    "        '土木結構': 'CElab',\n",
    "        '中正堂':'CKS',\n",
    "        '光電大樓':'TKB',\n",
    "        '第二餐廳': 'Canteen2',\n",
    "        '服務大樓':'Service',\n",
    "        '行政大樓':'Administration',\n",
    "        '環保大樓':'Environmental',\n",
    "        '材料實驗':'Material',\n",
    "        '綜合一館':'Assembly1',\n",
    "        '綜合球館':'Sport',\n",
    "        '游泳館':'Swim',\n",
    "        '體育館':'Gym',\n",
    "        '機車Ｈ棚':'ShedH',\n",
    "        '機車Ａ棚':'ShedA',\n",
    "        '機車Ｄ棚':'ShedD',\n",
    "        '工程一館中繼':'PowerSatatiopn_EB1',\n",
    "        '人社二館中繼':'PowerSatatiopn_HS2',\n",
    "        '南區總電站':'PowerSatatiopn_main_south',\n",
    "        '防災中心':'Safty',\n",
    "        '污水場':'Wastewater',\n",
    "        '電資大樓': 'ElecInfo',\n",
    "        '資訊館(南區)':'Info_south',\n",
    "        '資訊館(北區)':'Info_north',\n",
    "        '活動中心': 'Activity',\n",
    "        '圖資中心': 'Library',\n",
    "        '第一招待所': 'GuestHouse'\n",
    "                 },\n",
    "    'Type' : {'教學': 'edu', '宿舍': 'dorm', '行政':'admin', '外租':'rent','電站':'power'},\n",
    "    'Loop' : {'主迴路': 'main'}\n",
    "              }\n",
    "# ,'Building': {'學生十舍':'d10', '學生十三舍':'d13', }\n",
    "df = df.replace(dic_replace)"
   ]
  },
  {
   "cell_type": "code",
   "execution_count": 125,
   "metadata": {},
   "outputs": [
    {
     "data": {
      "text/plain": [
       "array(['EB1', 'EB2', 'MB1', 'ElecInfo', 'TKB', 'SB3', 'SB1', 'SB2',\n",
       "       'Environmental', 'HS1', 'HS2', '人社三館', 'EB3', 'EB4', 'EB5', 'EB6',\n",
       "       'MB2', 'Assembly1'], dtype=object)"
      ]
     },
     "execution_count": 125,
     "metadata": {},
     "output_type": "execute_result"
    }
   ],
   "source": [
    "df.Building.unique()"
   ]
  },
  {
   "cell_type": "code",
   "execution_count": 126,
   "metadata": {},
   "outputs": [
    {
     "name": "stdout",
     "output_type": "stream",
     "text": [
      ">>> \"DateTime\" has 840 unique values:\n",
      "The value is more than 100 so wont be list here :P\n",
      "\n",
      "\n",
      ">>> \"Area\" has 2 unique values:\n",
      "['N' 'S']\n",
      "\n",
      "\n",
      ">>> \"Building\" has 18 unique values:\n",
      "['EB1' 'EB2' 'MB1' 'ElecInfo' 'TKB' 'SB3' 'SB1' 'SB2' 'Environmental'\n",
      " 'HS1' 'HS2' '人社三館' 'EB3' 'EB4' 'EB5' 'EB6' 'MB2' 'Assembly1']\n",
      "\n",
      "\n",
      ">>> \"Loop\" has 11 unique values:\n",
      "['main' '空調' '網球場動力' '網球場燈力' '空大MP動力' '空大ML燈力' '棒球場照明' '餐亭' '管科ML燈力'\n",
      " '管科插座' '管科MP動力']\n",
      "\n",
      "\n",
      ">>> \"Type\" has 3 unique values:\n",
      "['edu' 'admin' 'rent']\n",
      "\n",
      "\n",
      ">>> \"Usage\" has 3307 unique values:\n",
      "The value is more than 100 so wont be list here :P\n",
      "\n",
      "\n"
     ]
    }
   ],
   "source": [
    "understand(df)"
   ]
  },
  {
   "cell_type": "code",
   "execution_count": 127,
   "metadata": {},
   "outputs": [],
   "source": [
    "# os.chdir(path[:path.rfind('/')])"
   ]
  },
  {
   "cell_type": "code",
   "execution_count": 128,
   "metadata": {
    "collapsed": true
   },
   "outputs": [],
   "source": [
    "def generate_date_time_columns(df):\n",
    "    if('DateTime' in df.columns):\n",
    "            df['Date'] = df.DateTime.str[:10]\n",
    "            df['Date'] = pd.to_datetime(df['Date'], format='%Y-%m-%d')\n",
    "            df['Weekday'] = df['Date'].dt.dayofweek + 1\n",
    "            df['DayName'] = df['Date'].dt.strftime(\"%A\")\n",
    "            df['Time'] = df.DateTime.str[11:]\n",
    "            df['Week'] = df['Date'].dt.week\n",
    "            print('Columns #Date, #Time, #Weekday, #Week has been generated from DateTime and added to DataFrame')\n",
    "    else:\n",
    "        print('DateTime not in column. Please rename columns name.')\n",
    "    return df"
   ]
  },
  {
   "cell_type": "code",
   "execution_count": 129,
   "metadata": {
    "collapsed": true
   },
   "outputs": [],
   "source": [
    "# # cost_rate：一度電大概多少錢\n",
    "# def generate_cost_columns(df, cost_rate):\n",
    "#     df['Cost({})'.format(CostRate)] = df.Usage * cost_rate\n",
    "#     print('Column \"Cost\" had been generated!')\n",
    "#     return df"
   ]
  },
  {
   "cell_type": "code",
   "execution_count": 130,
   "metadata": {},
   "outputs": [
    {
     "name": "stdout",
     "output_type": "stream",
     "text": [
      "Columns #Date, #Time, #Weekday, #Week has been generated from DateTime and added to DataFrame\n"
     ]
    },
    {
     "data": {
      "text/html": [
       "<div>\n",
       "<style scoped>\n",
       "    .dataframe tbody tr th:only-of-type {\n",
       "        vertical-align: middle;\n",
       "    }\n",
       "\n",
       "    .dataframe tbody tr th {\n",
       "        vertical-align: top;\n",
       "    }\n",
       "\n",
       "    .dataframe thead th {\n",
       "        text-align: right;\n",
       "    }\n",
       "</style>\n",
       "<table border=\"1\" class=\"dataframe\">\n",
       "  <thead>\n",
       "    <tr style=\"text-align: right;\">\n",
       "      <th></th>\n",
       "      <th>DateTime</th>\n",
       "      <th>Area</th>\n",
       "      <th>Building</th>\n",
       "      <th>Loop</th>\n",
       "      <th>Type</th>\n",
       "      <th>Usage</th>\n",
       "      <th>Date</th>\n",
       "      <th>Weekday</th>\n",
       "      <th>DayName</th>\n",
       "      <th>Time</th>\n",
       "      <th>Week</th>\n",
       "    </tr>\n",
       "  </thead>\n",
       "  <tbody>\n",
       "    <tr>\n",
       "      <th>0</th>\n",
       "      <td>2018/03/12 00:00</td>\n",
       "      <td>N</td>\n",
       "      <td>EB1</td>\n",
       "      <td>main</td>\n",
       "      <td>edu</td>\n",
       "      <td>15.38</td>\n",
       "      <td>2018-03-12</td>\n",
       "      <td>1</td>\n",
       "      <td>Monday</td>\n",
       "      <td>00:00</td>\n",
       "      <td>11</td>\n",
       "    </tr>\n",
       "    <tr>\n",
       "      <th>1</th>\n",
       "      <td>2018/03/12 01:00</td>\n",
       "      <td>N</td>\n",
       "      <td>EB1</td>\n",
       "      <td>main</td>\n",
       "      <td>edu</td>\n",
       "      <td>15.63</td>\n",
       "      <td>2018-03-12</td>\n",
       "      <td>1</td>\n",
       "      <td>Monday</td>\n",
       "      <td>01:00</td>\n",
       "      <td>11</td>\n",
       "    </tr>\n",
       "    <tr>\n",
       "      <th>2</th>\n",
       "      <td>2018/03/12 02:00</td>\n",
       "      <td>N</td>\n",
       "      <td>EB1</td>\n",
       "      <td>main</td>\n",
       "      <td>edu</td>\n",
       "      <td>15.00</td>\n",
       "      <td>2018-03-12</td>\n",
       "      <td>1</td>\n",
       "      <td>Monday</td>\n",
       "      <td>02:00</td>\n",
       "      <td>11</td>\n",
       "    </tr>\n",
       "    <tr>\n",
       "      <th>3</th>\n",
       "      <td>2018/03/12 03:00</td>\n",
       "      <td>N</td>\n",
       "      <td>EB1</td>\n",
       "      <td>main</td>\n",
       "      <td>edu</td>\n",
       "      <td>15.00</td>\n",
       "      <td>2018-03-12</td>\n",
       "      <td>1</td>\n",
       "      <td>Monday</td>\n",
       "      <td>03:00</td>\n",
       "      <td>11</td>\n",
       "    </tr>\n",
       "    <tr>\n",
       "      <th>4</th>\n",
       "      <td>2018/03/12 04:00</td>\n",
       "      <td>N</td>\n",
       "      <td>EB1</td>\n",
       "      <td>main</td>\n",
       "      <td>edu</td>\n",
       "      <td>15.25</td>\n",
       "      <td>2018-03-12</td>\n",
       "      <td>1</td>\n",
       "      <td>Monday</td>\n",
       "      <td>04:00</td>\n",
       "      <td>11</td>\n",
       "    </tr>\n",
       "  </tbody>\n",
       "</table>\n",
       "</div>"
      ],
      "text/plain": [
       "           DateTime Area Building  Loop Type  Usage       Date  Weekday  \\\n",
       "0  2018/03/12 00:00    N      EB1  main  edu  15.38 2018-03-12        1   \n",
       "1  2018/03/12 01:00    N      EB1  main  edu  15.63 2018-03-12        1   \n",
       "2  2018/03/12 02:00    N      EB1  main  edu  15.00 2018-03-12        1   \n",
       "3  2018/03/12 03:00    N      EB1  main  edu  15.00 2018-03-12        1   \n",
       "4  2018/03/12 04:00    N      EB1  main  edu  15.25 2018-03-12        1   \n",
       "\n",
       "  DayName   Time  Week  \n",
       "0  Monday  00:00    11  \n",
       "1  Monday  01:00    11  \n",
       "2  Monday  02:00    11  \n",
       "3  Monday  03:00    11  \n",
       "4  Monday  04:00    11  "
      ]
     },
     "execution_count": 130,
     "metadata": {},
     "output_type": "execute_result"
    }
   ],
   "source": [
    "df = generate_date_time_columns(df)\n",
    "# df = generate_cost_columns(df, CostRate)\n",
    "df.head()"
   ]
  },
  {
   "cell_type": "code",
   "execution_count": 141,
   "metadata": {},
   "outputs": [],
   "source": [
    "os.getcwd()\n",
    "os.listdir()\n",
    "os.chdir('./01data/106B_P1_P4/')"
   ]
  },
  {
   "cell_type": "code",
   "execution_count": 143,
   "metadata": {},
   "outputs": [
    {
     "name": "stdout",
     "output_type": "stream",
     "text": [
      "存檔，作業完成！\n"
     ]
    }
   ],
   "source": [
    "df.to_csv('+'+file, encoding='utf-8')\n",
    "print('存檔，作業完成！')"
   ]
  },
  {
   "cell_type": "code",
   "execution_count": 144,
   "metadata": {},
   "outputs": [
    {
     "data": {
      "text/plain": [
       "['+teach_p1.csv', '+teach_p2.csv', 'teach_p1.csv', 'teach_p2.csv']"
      ]
     },
     "execution_count": 144,
     "metadata": {},
     "output_type": "execute_result"
    }
   ],
   "source": [
    "os.listdir()"
   ]
  },
  {
   "cell_type": "code",
   "execution_count": null,
   "metadata": {
    "collapsed": true
   },
   "outputs": [],
   "source": []
  }
 ],
 "metadata": {
  "anaconda-cloud": {},
  "kernelspec": {
   "display_name": "Python [default]",
   "language": "python",
   "name": "python3"
  },
  "language_info": {
   "codemirror_mode": {
    "name": "ipython",
    "version": 3
   },
   "file_extension": ".py",
   "mimetype": "text/x-python",
   "name": "python",
   "nbconvert_exporter": "python",
   "pygments_lexer": "ipython3",
   "version": "3.5.2"
  }
 },
 "nbformat": 4,
 "nbformat_minor": 2
}
