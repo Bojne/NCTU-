{
 "cells": [
  {
   "cell_type": "markdown",
   "metadata": {},
   "source": [
    "## 教學館 Report ｜以科ㄧ為例\n",
    "任務：產生一份報告，分析五週間的用電狀況。\n",
    "目標：(1)好讀 (2)容易理解 ,(3)資料正確且有意義, (4)可重複\n",
    "\n",
    "### 進度\n",
    "    1. 框架(Done)\n",
    "    2. IPython notebook 實踐(Wrorking on)\n",
    "    3. 變成書面報告及電子檔\n",
    "    4. 變成網頁\n",
    "\n",
    "### 呈現資訊\n",
    "    1. [文字] 基本：館舍資訊、期間、資料描述（幾小時一筆、迴路等）\n",
    "    2. [數字] [這一期] 電費是多少？跟上一期比較又是多少？\n",
    "    3. [欄位] 最高用電的天、時間\n",
    "    4. [圖表] 每週七天平均用電曲線 （比較差異）\n",
    "    5. [圖表] 24小時用電 - 從六點開始 - 五週平均線\n",
    "    6. [數字] 假日平日用電比 (%)\n",
    "    7. [表格] 每週用電比例 \n",
    "    8. [圖表] （跟其他館舍的比較）\n",
    "    9. [文字] 節電建議\n",
    "    10. ...\n",
    "\n",
    "### 放入資訊\n",
    "    - 位置：館舍 Dic 去找\n",
    "    - 期間：一個list，六個數字\n",
    "    - 電費：一個float\n",
    "---\n"
   ]
  },
  {
   "cell_type": "code",
   "execution_count": 2,
   "metadata": {},
   "outputs": [
    {
     "name": "stdout",
     "output_type": "stream",
     "text": [
      "Populating the interactive namespace from numpy and matplotlib\n"
     ]
    }
   ],
   "source": [
    "# 呼叫 libary \n",
    "import pandas as pd\n",
    "%matplotlib inline\n",
    "%pylab inline"
   ]
  },
  {
   "cell_type": "markdown",
   "metadata": {},
   "source": [
    "## 預設資料 "
   ]
  },
  {
   "cell_type": "code",
   "execution_count": null,
   "metadata": {
    "collapsed": true
   },
   "outputs": [],
   "source": [
    "### Input data ### \n",
    "place = \"十二舍\"\n",
    "period = [2018,9,1,2018,10,3]\n",
    "rate = 2.45\n",
    "### Input data ###"
   ]
  },
  {
   "cell_type": "markdown",
   "metadata": {},
   "source": [
    "## 抓資料"
   ]
  },
  {
   "cell_type": "code",
   "execution_count": null,
   "metadata": {
    "collapsed": true
   },
   "outputs": [],
   "source": [
    "# 先執行 data_split.py，得到檔案\n",
    "# 去檔案的目錄，透過地點讀進來\n",
    "# 選時間切出主要資料"
   ]
  },
  {
   "cell_type": "markdown",
   "metadata": {},
   "source": [
    "## 大函數"
   ]
  },
  {
   "cell_type": "markdown",
   "metadata": {},
   "source": [
    "## 結果"
   ]
  },
  {
   "cell_type": "markdown",
   "metadata": {},
   "source": [
    "## 書面報告"
   ]
  },
  {
   "cell_type": "code",
   "execution_count": null,
   "metadata": {
    "collapsed": true
   },
   "outputs": [],
   "source": []
  }
 ],
 "metadata": {
  "anaconda-cloud": {},
  "kernelspec": {
   "display_name": "Python [default]",
   "language": "python",
   "name": "python3"
  },
  "language_info": {
   "codemirror_mode": {
    "name": "ipython",
    "version": 3
   },
   "file_extension": ".py",
   "mimetype": "text/x-python",
   "name": "python",
   "nbconvert_exporter": "python",
   "pygments_lexer": "ipython3",
   "version": "3.5.2"
  }
 },
 "nbformat": 4,
 "nbformat_minor": 2
}
