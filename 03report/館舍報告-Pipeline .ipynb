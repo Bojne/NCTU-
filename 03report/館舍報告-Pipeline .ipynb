{
 "cells": [
  {
   "cell_type": "markdown",
   "metadata": {},
   "source": [
    "## 教學館 Report ｜以科ㄧ為例\n",
    "任務：產生一份報告，分析五週間的用電狀況。\n",
    "目標：(1)好讀 (2)容易理解 ,(3)資料正確且有意義, (4)可重複\n",
    "\n",
    "### 進度\n",
    "    1. 框架(Done)\n",
    "    2. IPython notebook 實踐(Wrorking on)\n",
    "    3. 變成書面報告及電子檔\n",
    "    4. 變成網頁\n",
    "    \n",
    "### 報告時間週期\n",
    "    - def Weeks: from Monday to Sunday.\n",
    "    - one period = 5 weeks\n",
    "    - Starts from week 0, ends at week 19. Four period.\n",
    "        - P1: 2.12 - 3.11 (Holiday: 2.28, 3.1)\n",
    "        - P2: 3.12 - 4.15 (Holiday: 4.4, 4.5, 4.8 兒童節、校慶補假)\n",
    "        - P3: 4.16 - 5.20 (No Holiday)\n",
    "        - P4: 5.21 - 6.24 (Holiday: 6.7 端午節)\n",
    "\n",
    "### 呈現資訊\n",
    "    1. #ok [文字] 基本：館舍資訊、期間、資料描述（幾小時一筆、迴路等）  \n",
    "    2. [數字] [這一期] 電費是多少？跟上一期比較又是多少？\n",
    "    3. [欄位] 最高用電的天、時間\n",
    "    4. [圖表] 每週七天平均用電曲線 （比較差異）\n",
    "    5. [圖表] 24小時用電 - 從六點開始 - 五週平均線\n",
    "    6. [數字] 假日平日用電比 (%)\n",
    "    7. [表格] 每週用電比例 \n",
    "    8. [圖表] （跟其他館舍的比較）\n",
    "    9. [文字] 節電建議\n",
    "    10. ...\n",
    "\n",
    "### 放入資訊\n",
    "    - 位置：館舍 Dic 去找\n",
    "    - 期間：一個list，六個數字\n",
    "    - 電費：一個float\n",
    "---\n"
   ]
  },
  {
   "cell_type": "code",
   "execution_count": 61,
   "metadata": {},
   "outputs": [
    {
     "name": "stdout",
     "output_type": "stream",
     "text": [
      "Populating the interactive namespace from numpy and matplotlib\n"
     ]
    },
    {
     "name": "stderr",
     "output_type": "stream",
     "text": [
      "/Users/ah-bau/anaconda/lib/python3.5/site-packages/IPython/core/magics/pylab.py:161: UserWarning: pylab import has clobbered these variables: ['rate', 'place']\n",
      "`%matplotlib` prevents importing * from pylab and numpy\n",
      "  \"\\n`%matplotlib` prevents importing * from pylab and numpy\"\n"
     ]
    }
   ],
   "source": [
    "# 呼叫 libary \n",
    "import pandas as pd\n",
    "%matplotlib inline\n",
    "%pylab inline"
   ]
  },
  {
   "cell_type": "markdown",
   "metadata": {},
   "source": [
    "## 預設資料 "
   ]
  },
  {
   "cell_type": "code",
   "execution_count": 62,
   "metadata": {},
   "outputs": [],
   "source": [
    "### Input data ###\n",
    "Path = \"../01data/106B_P1_P4/+teach_p1.csv\"\n",
    "Place = \"SB1\"\n",
    "Period = 1 \n",
    "Rate = 2.45\n",
    "### Input data ###"
   ]
  },
  {
   "cell_type": "markdown",
   "metadata": {},
   "source": [
    "## 抓資料"
   ]
  },
  {
   "cell_type": "code",
   "execution_count": 63,
   "metadata": {},
   "outputs": [
    {
     "data": {
      "text/plain": [
       "array(['2018-02-12', '2018-02-13', '2018-02-14', '2018-02-15',\n",
       "       '2018-02-16', '2018-02-17', '2018-02-18', '2018-02-19',\n",
       "       '2018-02-20', '2018-02-21', '2018-02-22', '2018-02-23',\n",
       "       '2018-02-24', '2018-02-25', '2018-02-26', '2018-02-27',\n",
       "       '2018-02-28', '2018-03-01', '2018-03-02', '2018-03-03',\n",
       "       '2018-03-04', '2018-03-05', '2018-03-06', '2018-03-07',\n",
       "       '2018-03-08', '2018-03-09', '2018-03-10', '2018-03-11'],\n",
       "      dtype=object)"
      ]
     },
     "execution_count": 63,
     "metadata": {},
     "output_type": "execute_result"
    }
   ],
   "source": [
    "df = pd.read_csv(Path)\n",
    "# print(df.Building.unique())\n",
    "df = df[df.Building == Place] #選定地方\n",
    "df.Date.unique() #確認日期"
   ]
  },
  {
   "cell_type": "markdown",
   "metadata": {},
   "source": [
    "## 函數們"
   ]
  },
  {
   "cell_type": "code",
   "execution_count": 64,
   "metadata": {},
   "outputs": [],
   "source": [
    "# cost_rate：一度電大概多少錢\n",
    "def generate_cost_columns(df, Rate):\n",
    "    df['Cost'] = df.Usage * Rate\n",
    "    print('Column \"Cost\" had been generated!')\n",
    "    return df"
   ]
  },
  {
   "cell_type": "code",
   "execution_count": 66,
   "metadata": {},
   "outputs": [
    {
     "name": "stdout",
     "output_type": "stream",
     "text": [
      "Column \"Cost\" had been generated!\n"
     ]
    }
   ],
   "source": [
    "df = generate_cost_columns(df,Rate)"
   ]
  },
  {
   "cell_type": "code",
   "execution_count": 69,
   "metadata": {},
   "outputs": [
    {
     "data": {
      "text/html": [
       "<div>\n",
       "<style scoped>\n",
       "    .dataframe tbody tr th:only-of-type {\n",
       "        vertical-align: middle;\n",
       "    }\n",
       "\n",
       "    .dataframe tbody tr th {\n",
       "        vertical-align: top;\n",
       "    }\n",
       "\n",
       "    .dataframe thead th {\n",
       "        text-align: right;\n",
       "    }\n",
       "</style>\n",
       "<table border=\"1\" class=\"dataframe\">\n",
       "  <thead>\n",
       "    <tr style=\"text-align: right;\">\n",
       "      <th></th>\n",
       "      <th>Unnamed: 0</th>\n",
       "      <th>Usage</th>\n",
       "      <th>Week</th>\n",
       "      <th>Cost</th>\n",
       "    </tr>\n",
       "    <tr>\n",
       "      <th>Weekday</th>\n",
       "      <th></th>\n",
       "      <th></th>\n",
       "      <th></th>\n",
       "      <th></th>\n",
       "    </tr>\n",
       "  </thead>\n",
       "  <tbody>\n",
       "    <tr>\n",
       "      <th>1</th>\n",
       "      <td>605904</td>\n",
       "      <td>4942.50</td>\n",
       "      <td>816</td>\n",
       "      <td>12109.1250</td>\n",
       "    </tr>\n",
       "    <tr>\n",
       "      <th>2</th>\n",
       "      <td>608208</td>\n",
       "      <td>4659.26</td>\n",
       "      <td>816</td>\n",
       "      <td>11415.1870</td>\n",
       "    </tr>\n",
       "    <tr>\n",
       "      <th>3</th>\n",
       "      <td>610512</td>\n",
       "      <td>4412.57</td>\n",
       "      <td>816</td>\n",
       "      <td>10810.7965</td>\n",
       "    </tr>\n",
       "    <tr>\n",
       "      <th>4</th>\n",
       "      <td>612816</td>\n",
       "      <td>5121.24</td>\n",
       "      <td>816</td>\n",
       "      <td>12547.0380</td>\n",
       "    </tr>\n",
       "    <tr>\n",
       "      <th>5</th>\n",
       "      <td>615120</td>\n",
       "      <td>4576.89</td>\n",
       "      <td>816</td>\n",
       "      <td>11213.3805</td>\n",
       "    </tr>\n",
       "    <tr>\n",
       "      <th>6</th>\n",
       "      <td>617424</td>\n",
       "      <td>3423.98</td>\n",
       "      <td>816</td>\n",
       "      <td>8388.7510</td>\n",
       "    </tr>\n",
       "    <tr>\n",
       "      <th>7</th>\n",
       "      <td>619728</td>\n",
       "      <td>3388.80</td>\n",
       "      <td>816</td>\n",
       "      <td>8302.5600</td>\n",
       "    </tr>\n",
       "  </tbody>\n",
       "</table>\n",
       "</div>"
      ],
      "text/plain": [
       "         Unnamed: 0    Usage  Week        Cost\n",
       "Weekday                                       \n",
       "1            605904  4942.50   816  12109.1250\n",
       "2            608208  4659.26   816  11415.1870\n",
       "3            610512  4412.57   816  10810.7965\n",
       "4            612816  5121.24   816  12547.0380\n",
       "5            615120  4576.89   816  11213.3805\n",
       "6            617424  3423.98   816   8388.7510\n",
       "7            619728  3388.80   816   8302.5600"
      ]
     },
     "execution_count": 69,
     "metadata": {},
     "output_type": "execute_result"
    }
   ],
   "source": [
    "df.groupby('Weekday').sum()"
   ]
  },
  {
   "cell_type": "code",
   "execution_count": 82,
   "metadata": {},
   "outputs": [
    {
     "name": "stdout",
     "output_type": "stream",
     "text": [
      "Total cost: 74787.0 \n",
      "By day: Weekday\n",
      "1    12109.0\n",
      "2    11415.0\n",
      "3    10811.0\n",
      "4    12547.0\n",
      "5    11213.0\n",
      "6     8389.0\n",
      "7     8303.0\n",
      "Name: Cost, dtype: float64\n"
     ]
    }
   ],
   "source": [
    "def reveal_cost(df):\n",
    "    total = round(df.Cost.sum())\n",
    "    by_day = round(df.groupby('Weekday').sum().Cost)\n",
    "    print(\"Total cost: {}\".format(total),'\\n'\n",
    "          \"By day: {}\".format(by_day))\n",
    "#     return(total,by_day)\n",
    "reveal_cost(df)"
   ]
  },
  {
   "cell_type": "markdown",
   "metadata": {},
   "source": [
    "## 結果"
   ]
  },
  {
   "cell_type": "markdown",
   "metadata": {},
   "source": [
    "## 書面報告"
   ]
  },
  {
   "cell_type": "code",
   "execution_count": null,
   "metadata": {
    "collapsed": true
   },
   "outputs": [],
   "source": []
  }
 ],
 "metadata": {
  "anaconda-cloud": {},
  "kernelspec": {
   "display_name": "Python [default]",
   "language": "python",
   "name": "python3"
  },
  "language_info": {
   "codemirror_mode": {
    "name": "ipython",
    "version": 3
   },
   "file_extension": ".py",
   "mimetype": "text/x-python",
   "name": "python",
   "nbconvert_exporter": "python",
   "pygments_lexer": "ipython3",
   "version": "3.5.2"
  }
 },
 "nbformat": 4,
 "nbformat_minor": 2
}
