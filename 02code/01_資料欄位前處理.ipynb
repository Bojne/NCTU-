{
 "cells": [
  {
   "cell_type": "code",
   "execution_count": 1,
   "metadata": {
    "collapsed": true
   },
   "outputs": [],
   "source": [
    "import pandas as pd\n",
    "import os\n",
    "%matplotlib inline"
   ]
  },
  {
   "cell_type": "code",
   "execution_count": 2,
   "metadata": {
    "collapsed": true
   },
   "outputs": [],
   "source": [
    "file = 'allbd＿by12month.csv'\n",
    "path = '../02dataset/{}'.format(file)\n",
    "df = pd.read_csv(path)"
   ]
  },
  {
   "cell_type": "code",
   "execution_count": 3,
   "metadata": {},
   "outputs": [
    {
     "name": "stdout",
     "output_type": "stream",
     "text": [
      "Old names:  Index(['date', 'area', 'bd_name', 'loop', 'type', 'Usage'], dtype='object')\n",
      "Reassign Column names\n",
      "New names:  Index(['Time', 'Area', 'Building', 'Loop', 'Type', 'Usage'], dtype='object')\n"
     ]
    },
    {
     "data": {
      "text/html": [
       "<div>\n",
       "<style scoped>\n",
       "    .dataframe tbody tr th:only-of-type {\n",
       "        vertical-align: middle;\n",
       "    }\n",
       "\n",
       "    .dataframe tbody tr th {\n",
       "        vertical-align: top;\n",
       "    }\n",
       "\n",
       "    .dataframe thead th {\n",
       "        text-align: right;\n",
       "    }\n",
       "</style>\n",
       "<table border=\"1\" class=\"dataframe\">\n",
       "  <thead>\n",
       "    <tr style=\"text-align: right;\">\n",
       "      <th></th>\n",
       "      <th>Time</th>\n",
       "      <th>Area</th>\n",
       "      <th>Building</th>\n",
       "      <th>Loop</th>\n",
       "      <th>Type</th>\n",
       "      <th>Usage</th>\n",
       "    </tr>\n",
       "  </thead>\n",
       "  <tbody>\n",
       "    <tr>\n",
       "      <th>0</th>\n",
       "      <td>2017/08</td>\n",
       "      <td>北區</td>\n",
       "      <td>體育館</td>\n",
       "      <td>主迴路</td>\n",
       "      <td>行政</td>\n",
       "      <td>39249.63</td>\n",
       "    </tr>\n",
       "    <tr>\n",
       "      <th>1</th>\n",
       "      <td>2017/08</td>\n",
       "      <td>北區</td>\n",
       "      <td>體育館</td>\n",
       "      <td>司令台</td>\n",
       "      <td>行政</td>\n",
       "      <td>1757.34</td>\n",
       "    </tr>\n",
       "    <tr>\n",
       "      <th>2</th>\n",
       "      <td>2017/08</td>\n",
       "      <td>北區</td>\n",
       "      <td>體育館</td>\n",
       "      <td>籃排球場</td>\n",
       "      <td>行政</td>\n",
       "      <td>949.59</td>\n",
       "    </tr>\n",
       "    <tr>\n",
       "      <th>3</th>\n",
       "      <td>2017/08</td>\n",
       "      <td>北區</td>\n",
       "      <td>環保大樓</td>\n",
       "      <td>主迴路</td>\n",
       "      <td>教學</td>\n",
       "      <td>73856.03</td>\n",
       "    </tr>\n",
       "    <tr>\n",
       "      <th>4</th>\n",
       "      <td>2017/08</td>\n",
       "      <td>南區</td>\n",
       "      <td>機車Ｈ棚</td>\n",
       "      <td>主迴路</td>\n",
       "      <td>行政</td>\n",
       "      <td>0.00</td>\n",
       "    </tr>\n",
       "  </tbody>\n",
       "</table>\n",
       "</div>"
      ],
      "text/plain": [
       "      Time                  Area              Building                  Loop  \\\n",
       "0  2017/08  北區                    體育館                   主迴路                    \n",
       "1  2017/08  北區                    體育館                   司令台                    \n",
       "2  2017/08  北區                    體育館                   籃排球場                   \n",
       "3  2017/08  北區                    環保大樓                  主迴路                    \n",
       "4  2017/08  南區                    機車Ｈ棚                  主迴路                    \n",
       "\n",
       "                   Type     Usage  \n",
       "0  行政                    39249.63  \n",
       "1  行政                     1757.34  \n",
       "2  行政                      949.59  \n",
       "3  教學                    73856.03  \n",
       "4  行政                        0.00  "
      ]
     },
     "execution_count": 3,
     "metadata": {},
     "output_type": "execute_result"
    }
   ],
   "source": [
    "print('Old names: ',df.columns)\n",
    "print('Reassign Column names')\n",
    "df.columns = ['Time', 'Area', 'Building', 'Loop', 'Type', 'Usage']\n",
    "print('New names: ',df.columns)\n",
    "df.head()"
   ]
  },
  {
   "cell_type": "code",
   "execution_count": 4,
   "metadata": {},
   "outputs": [
    {
     "name": "stdout",
     "output_type": "stream",
     "text": [
      "Before:  ['體育館                 ' '環保大樓                ' '機車Ｈ棚                '\n",
      " '機車Ｄ棚                ' '機車Ａ棚                ' '學生十舍                '\n",
      " '學生十三舍               ' '學生十二舍               ' '學生十一舍_研一舍           '\n",
      " '學生十一舍               ' '學生八舍                ' '學生九舍                '\n",
      " '學生七舍_八舍             ' '學生七舍                ' '綜合球館                '\n",
      " '綜合一館                ' '管理二館                ' '管理一館                '\n",
      " '圖資中心                ' '電資大樓                ' '資訊館(南區)             '\n",
      " '資訊館(北區)             ' '游泳館                 ' '第二餐廳                '\n",
      " '第一招待所               ' '基礎大樓                ' '科學二館                '\n",
      " '科學一館                ' '研究生二舍               ' '研究生一舍               '\n",
      " '活動中心                ' '南區總電站               ' '服務大樓                '\n",
      " '防災中心                ' '材料實驗                ' '行政大樓                '\n",
      " '竹軒宿舍                ' '污水場                 ' '光電大樓                '\n",
      " '交映樓                 ' '中正堂                 ' '工程四館                '\n",
      " '工程六館                ' '工程五館                ' '工程三館                '\n",
      " '工程二館                ' '工程一館中繼              ' '工程一館                '\n",
      " '女二舍                 ' '土木結構                ' '人社二館中繼              '\n",
      " '人社二館                ' '人社一館                ']\n",
      "After:  ['體育館' '環保大樓' '機車Ｈ棚' '機車Ｄ棚' '機車Ａ棚' '學生十舍' '學生十三舍' '學生十二舍' '學生十一舍_研一舍'\n",
      " '學生十一舍' '學生八舍' '學生九舍' '學生七舍_八舍' '學生七舍' '綜合球館' '綜合一館' '管理二館' '管理一館' '圖資中心'\n",
      " '電資大樓' '資訊館(南區)' '資訊館(北區)' '游泳館' '第二餐廳' '第一招待所' '基礎大樓' '科學二館' '科學一館'\n",
      " '研究生二舍' '研究生一舍' '活動中心' '南區總電站' '服務大樓' '防災中心' '材料實驗' '行政大樓' '竹軒宿舍' '污水場'\n",
      " '光電大樓' '交映樓' '中正堂' '工程四館' '工程六館' '工程五館' '工程三館' '工程二館' '工程一館中繼' '工程一館'\n",
      " '女二舍' '土木結構' '人社二館中繼' '人社二館' '人社一館']\n"
     ]
    }
   ],
   "source": [
    "def clear_white_space(df):\n",
    "    print(\"Before: \", df.Building.unique())\n",
    "    for y in df.select_dtypes(include = 'object').columns:\n",
    "        df[y] = df[y].str.strip()\n",
    "    print('After: ', df.Building.unique())\n",
    "clear_white_space(df)"
   ]
  },
  {
   "cell_type": "code",
   "execution_count": 5,
   "metadata": {
    "collapsed": true
   },
   "outputs": [],
   "source": [
    "# 用自訂函式去理解DF中每個欄位有哪幾種類別的值\n",
    "print_limit = 100\n",
    "def understand(df):\n",
    "    for col_name in df.columns:\n",
    "        print ('>>> \"{}\" has {} unique values:'.format(col_name, len(df[col_name].unique())))\n",
    "        if(len(df[col_name].unique())< print_limit):\n",
    "            print(df[col_name].unique())\n",
    "        else:\n",
    "            print('The value is more than {} so wont be list here :P'.format(print_limit))\n",
    "        print('\\n')\n"
   ]
  },
  {
   "cell_type": "code",
   "execution_count": 6,
   "metadata": {},
   "outputs": [
    {
     "name": "stdout",
     "output_type": "stream",
     "text": [
      ">>> \"Time\" has 12 unique values:\n",
      "['2017/08' '2017/07' '2017/06' '2017/05' '2017/04' '2017/03' '2017/02'\n",
      " '2017/01' '2016/12' '2016/11' '2016/10' '2016/09']\n",
      "\n",
      "\n",
      ">>> \"Area\" has 2 unique values:\n",
      "['北區' '南區']\n",
      "\n",
      "\n",
      ">>> \"Building\" has 53 unique values:\n",
      "['體育館' '環保大樓' '機車Ｈ棚' '機車Ｄ棚' '機車Ａ棚' '學生十舍' '學生十三舍' '學生十二舍' '學生十一舍_研一舍'\n",
      " '學生十一舍' '學生八舍' '學生九舍' '學生七舍_八舍' '學生七舍' '綜合球館' '綜合一館' '管理二館' '管理一館' '圖資中心'\n",
      " '電資大樓' '資訊館(南區)' '資訊館(北區)' '游泳館' '第二餐廳' '第一招待所' '基礎大樓' '科學二館' '科學一館'\n",
      " '研究生二舍' '研究生一舍' '活動中心' '南區總電站' '服務大樓' '防災中心' '材料實驗' '行政大樓' '竹軒宿舍' '污水場'\n",
      " '光電大樓' '交映樓' '中正堂' '工程四館' '工程六館' '工程五館' '工程三館' '工程二館' '工程一館中繼' '工程一館'\n",
      " '女二舍' '土木結構' '人社二館中繼' '人社二館' '人社一館']\n",
      "\n",
      "\n",
      ">>> \"Loop\" has 51 unique values:\n",
      "['主迴路' '司令台' '籃排球場' '學生交誼廳' '閱覽交誼廳' '社團' '1F便利超商' '環校路燈' '空大MP動力' '餐亭'\n",
      " '空大ML燈力' '管科MP動力' '管科ML燈力' '管科插座' '棒球場照明' '咖啡廳' '空調' '網球場動力' '網球場燈力'\n",
      " '館旁餐亭' '1F動力1' '1F便利超商動力' '2F快餐部P動力' '1F動力2' '3F教職員餐廳P動力' '2F素食部P動力'\n",
      " '1F燈力' '3F員工餐廳P動力' '2F素食部L燈力' '2F水果部L燈力' '2F快餐部L燈力' '3F教職員餐廳L燈力'\n",
      " '3F員工餐廳L燈力' '2F水果部P動力' '第一餐聽' '華通空調' '眼鏡部' '思源' '理髮部' '華通燈插' '美髮部' '洗衣部'\n",
      " '空調R' '' '1F郵局P動力' '1F郵局L燈力' '1F自助餐' '1F速食' '2F自助餐' '1F冷熱飲' '第二招待所']\n",
      "\n",
      "\n",
      ">>> \"Type\" has 5 unique values:\n",
      "['行政' '教學' '宿舍' '外租' '電站']\n",
      "\n",
      "\n",
      ">>> \"Usage\" has 1127 unique values:\n",
      "The value is more than 100 so wont be list here :P\n",
      "\n",
      "\n"
     ]
    }
   ],
   "source": [
    "understand(df)"
   ]
  },
  {
   "cell_type": "markdown",
   "metadata": {},
   "source": [
    "### 原始資料說明 - 2\n",
    "- index: ['﻿時  間', '區 域', '館 舍 別', '迴 路 別', '用電別', '用電量(單位:度)']\n",
    "\n",
    "### 人工資料前處理：改變欄位名稱\n",
    "#### 改變的原因\n",
    "- 原始的資料有空白在字串裡，會造成一些麻煩\n",
    "- 英文的名稱，可以在Pandas寫Code時較為方便(才能用 df.Usage的指令)\n",
    "\n",
    "#### 改了什麼\n",
    "- 我用Number(Excel)的尋找取代功能，把資料轉成英文，以下括弧表示原始資料的命名\n",
    "    - 區域：southArea(南區), northArea(北區)\n",
    "    - 迴 路 別: mainLoop（主迴路）, familyMart（1F便利超商）, club（社團）, socialHall（閱覽交誼廳）, studentHall（學生交誼廳）, streetLight(環校路燈),\n",
    "    - 館舍： dorm_13（學生十三舍）,(7,8,9,10,11,12 以此類推), dorm_graduate_2（研二）, dorm_87（學生七舍＿八舍）, dorm_13_graduate_1(11與研一), dorm_chu（竹軒）\n",
    "    - 用電別：rent（外租）, dorm（宿舍）, admin(行政)"
   ]
  },
  {
   "cell_type": "code",
   "execution_count": 7,
   "metadata": {
    "collapsed": true
   },
   "outputs": [],
   "source": [
    "dic_replace = {\n",
    "    'Area' : {'北區':'N','南區':'S'},\n",
    "    'Building' : {\n",
    "        '基礎大樓':\"SB3\",\n",
    "        '科學二館':\"SB2\",\n",
    "        '科學一館':\"SB1\",\n",
    "        '學生十三舍': \"D13\", \n",
    "        '學生十二舍': 'D12',\n",
    "        '學生十一舍': 'D11',\n",
    "        '學生十舍': 'D10',\n",
    "        '學生九舍': 'D9',\n",
    "        '學生八舍': 'D8',\n",
    "        '學生七舍': 'D7',\n",
    "        '學生七舍_八舍':'D87',\n",
    "        '竹軒宿舍': 'Df1',\n",
    "        '女二舍': 'Df2',\n",
    "        '研究生一舍': 'Dgd1',\n",
    "        '研究生二舍': 'Dgd2',\n",
    "        '學生十一舍_研一舍':'D11_grad1',\n",
    "        '管理一館':'MB1',\n",
    "        '管理二館':'MB2',\n",
    "        '工程一館': 'EB1',\n",
    "        '工程二館': 'EB2',\n",
    "        '工程三館': 'EB3',\n",
    "        '工程四館': 'EB4',\n",
    "        '工程五館': 'EB5',\n",
    "        '工程六館': 'EB6',\n",
    "        '人社一館': 'HS1',\n",
    "        '人社二館': 'HS2',\n",
    "        '交映樓': 'CPT',\n",
    "        '土木結構': 'CElab',\n",
    "        '中正堂':'CKS',\n",
    "        '光電大樓':'TKB',\n",
    "        '第二餐廳': 'Canteen2',\n",
    "        '服務大樓':'Service',\n",
    "        '行政大樓':'Administration',\n",
    "        '環保大樓':'Environmental',\n",
    "        '材料實驗':'Material',\n",
    "        '綜合一館':'Assembly1',\n",
    "        '綜合球館':'Sport',\n",
    "        '游泳館':'Swim',\n",
    "        '體育館':'Gym',\n",
    "        '機車Ｈ棚':'ShedH',\n",
    "        '機車Ａ棚':'ShedA',\n",
    "        '機車Ｄ棚':'ShedD',\n",
    "        '工程一館中繼':'PowerSatatiopn_EB1',\n",
    "        '人社二館中繼':'PowerSatatiopn_HS2',\n",
    "        '南區總電站':'PowerSatatiopn_main_south',\n",
    "        '防災中心':'Safty',\n",
    "        '污水場':'Wastewater',\n",
    "        '電資大樓': 'ElecInfo',\n",
    "        '資訊館(南區)':'Info_south',\n",
    "        '資訊館(北區)':'Info_north',\n",
    "        '活動中心': 'Activity',\n",
    "        '圖資中心': 'Library',\n",
    "        '第一招待所': 'GuestHouse'\n",
    "                 },\n",
    "    'Type' : {'教學': 'edu', '宿舍': 'dorm', '行政':'admin', '外租':'rent','電站':'power'},\n",
    "    'Loop' : {'主迴路': 'main'}\n",
    "              }\n",
    "# ,'Building': {'學生十舍':'d10', '學生十三舍':'d13', }\n",
    "df = df.replace(dic_replace)"
   ]
  },
  {
   "cell_type": "code",
   "execution_count": 8,
   "metadata": {},
   "outputs": [
    {
     "data": {
      "text/plain": [
       "array(['Gym', 'Environmental', 'ShedH', 'ShedD', 'ShedA', 'D10', 'D13',\n",
       "       'D12', 'D11_grad1', 'D11', 'D8', 'D9', 'D87', 'D7', 'Sport',\n",
       "       'Assembly1', 'MB2', 'MB1', 'Library', 'ElecInfo', 'Info_south',\n",
       "       'Info_north', 'Swim', 'Canteen2', 'GuestHouse', 'SB3', 'SB2', 'SB1',\n",
       "       'Dgd2', 'Dgd1', 'Activity', 'PowerSatatiopn_main_south', 'Service',\n",
       "       'Safty', 'Material', 'Administration', 'Df1', 'Wastewater', 'TKB',\n",
       "       'CPT', 'CKS', 'EB4', 'EB6', 'EB5', 'EB3', 'EB2',\n",
       "       'PowerSatatiopn_EB1', 'EB1', 'Df2', 'CElab', 'PowerSatatiopn_HS2',\n",
       "       'HS2', 'HS1'], dtype=object)"
      ]
     },
     "execution_count": 8,
     "metadata": {},
     "output_type": "execute_result"
    }
   ],
   "source": [
    "df.Building.unique()"
   ]
  },
  {
   "cell_type": "code",
   "execution_count": 9,
   "metadata": {},
   "outputs": [
    {
     "name": "stdout",
     "output_type": "stream",
     "text": [
      ">>> \"Time\" has 12 unique values:\n",
      "['2017/08' '2017/07' '2017/06' '2017/05' '2017/04' '2017/03' '2017/02'\n",
      " '2017/01' '2016/12' '2016/11' '2016/10' '2016/09']\n",
      "\n",
      "\n",
      ">>> \"Area\" has 2 unique values:\n",
      "['N' 'S']\n",
      "\n",
      "\n",
      ">>> \"Building\" has 53 unique values:\n",
      "['Gym' 'Environmental' 'ShedH' 'ShedD' 'ShedA' 'D10' 'D13' 'D12'\n",
      " 'D11_grad1' 'D11' 'D8' 'D9' 'D87' 'D7' 'Sport' 'Assembly1' 'MB2' 'MB1'\n",
      " 'Library' 'ElecInfo' 'Info_south' 'Info_north' 'Swim' 'Canteen2'\n",
      " 'GuestHouse' 'SB3' 'SB2' 'SB1' 'Dgd2' 'Dgd1' 'Activity'\n",
      " 'PowerSatatiopn_main_south' 'Service' 'Safty' 'Material' 'Administration'\n",
      " 'Df1' 'Wastewater' 'TKB' 'CPT' 'CKS' 'EB4' 'EB6' 'EB5' 'EB3' 'EB2'\n",
      " 'PowerSatatiopn_EB1' 'EB1' 'Df2' 'CElab' 'PowerSatatiopn_HS2' 'HS2' 'HS1']\n",
      "\n",
      "\n",
      ">>> \"Loop\" has 51 unique values:\n",
      "['main' '司令台' '籃排球場' '學生交誼廳' '閱覽交誼廳' '社團' '1F便利超商' '環校路燈' '空大MP動力' '餐亭'\n",
      " '空大ML燈力' '管科MP動力' '管科ML燈力' '管科插座' '棒球場照明' '咖啡廳' '空調' '網球場動力' '網球場燈力'\n",
      " '館旁餐亭' '1F動力1' '1F便利超商動力' '2F快餐部P動力' '1F動力2' '3F教職員餐廳P動力' '2F素食部P動力'\n",
      " '1F燈力' '3F員工餐廳P動力' '2F素食部L燈力' '2F水果部L燈力' '2F快餐部L燈力' '3F教職員餐廳L燈力'\n",
      " '3F員工餐廳L燈力' '2F水果部P動力' '第一餐聽' '華通空調' '眼鏡部' '思源' '理髮部' '華通燈插' '美髮部' '洗衣部'\n",
      " '空調R' '' '1F郵局P動力' '1F郵局L燈力' '1F自助餐' '1F速食' '2F自助餐' '1F冷熱飲' '第二招待所']\n",
      "\n",
      "\n",
      ">>> \"Type\" has 5 unique values:\n",
      "['admin' 'edu' 'dorm' 'rent' 'power']\n",
      "\n",
      "\n",
      ">>> \"Usage\" has 1127 unique values:\n",
      "The value is more than 100 so wont be list here :P\n",
      "\n",
      "\n"
     ]
    }
   ],
   "source": [
    "understand(df)"
   ]
  },
  {
   "cell_type": "code",
   "execution_count": 15,
   "metadata": {},
   "outputs": [
    {
     "name": "stdout",
     "output_type": "stream",
     "text": [
      "/Users/ah-bau/Desktop/交大課程/106A的六科/06基礎科學方法與實作/Github NCTU Electricity/02dataset\n"
     ]
    }
   ],
   "source": [
    "print(os.getcwd())\n",
    "os.chdir(path[:path.rfind('/')])"
   ]
  },
  {
   "cell_type": "code",
   "execution_count": null,
   "metadata": {},
   "outputs": [],
   "source": []
  },
  {
   "cell_type": "code",
   "execution_count": 17,
   "metadata": {
    "collapsed": true
   },
   "outputs": [],
   "source": [
    "df.to_csv('[new]'+file, encoding='utf-8')"
   ]
  },
  {
   "cell_type": "code",
   "execution_count": null,
   "metadata": {
    "collapsed": true
   },
   "outputs": [],
   "source": []
  },
  {
   "cell_type": "code",
   "execution_count": null,
   "metadata": {
    "collapsed": true
   },
   "outputs": [],
   "source": []
  },
  {
   "cell_type": "code",
   "execution_count": null,
   "metadata": {},
   "outputs": [],
   "source": []
  },
  {
   "cell_type": "code",
   "execution_count": null,
   "metadata": {
    "collapsed": true
   },
   "outputs": [],
   "source": []
  }
 ],
 "metadata": {
  "anaconda-cloud": {},
  "kernelspec": {
   "display_name": "Python [default]",
   "language": "python",
   "name": "python3"
  },
  "language_info": {
   "codemirror_mode": {
    "name": "ipython",
    "version": 3
   },
   "file_extension": ".py",
   "mimetype": "text/x-python",
   "name": "python",
   "nbconvert_exporter": "python",
   "pygments_lexer": "ipython3",
   "version": "3.5.2"
  }
 },
 "nbformat": 4,
 "nbformat_minor": 2
}
